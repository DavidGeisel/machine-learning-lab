{
 "cells": [
  {
   "cell_type": "markdown",
   "metadata": {},
   "source": [
    "# Use Tensorboard for Experiments <a class=\"tocSkip\">"
   ]
  },
  {
   "cell_type": "markdown",
   "metadata": {},
   "source": [
    "This tutorial demonstrates how you can use Tensorboard for your experiments. Tensorboard can not just be used with Tensorflow, but also with any other machine learning library via [tensorboardX](https://github.com/lanpa/tensorboardX). ML Lab provides a seamless integration with Tensorboard as shown below.\n",
    "\n",
    "**In this notebook:**\n",
    "\n",
    "* Run two experiments using tensorboard logger\n",
    "* Compare experiments inside workspace using tensorboard viewer \n",
    "* Download tensorboard logs from Lab and compare experiments"
   ]
  },
  {
   "cell_type": "markdown",
   "metadata": {},
   "source": [
    "## Dependencies\n",
    "- _Please use a Python 3 kernel for the notebook_"
   ]
  },
  {
   "cell_type": "markdown",
   "metadata": {
    "ExecuteTime": {
     "end_time": "2018-02-26T18:45:12.799022Z",
     "start_time": "2018-02-26T18:45:12.784137Z"
    }
   },
   "source": [
    "### Import Dependencies"
   ]
  },
  {
   "cell_type": "code",
   "execution_count": null,
   "metadata": {
    "ExecuteTime": {
     "end_time": "2019-02-26T17:54:25.339746Z",
     "start_time": "2019-02-26T17:54:24.029732Z"
    }
   },
   "outputs": [],
   "source": [
    "# System libraries\n",
    "from __future__ import absolute_import, division, print_function\n",
    "import logging, os, sys, random\n",
    "\n",
    "# Enable logging\n",
    "logging.basicConfig(format='[%(levelname)s] %(message)s', level=logging.INFO, stream=sys.stdout)\n",
    "\n",
    "# Intialize tqdm to always use the notebook progress bar\n",
    "import tqdm\n",
    "tqdm.tqdm = tqdm.tqdm_notebook\n",
    "\n",
    "# Third-party libraries\n",
    "import matplotlib.pyplot as plt\n",
    "\n",
    "# Lab libraries\n",
    "from lab_client import Environment"
   ]
  },
  {
   "cell_type": "markdown",
   "metadata": {},
   "source": [
    "### Initialize Environment"
   ]
  },
  {
   "cell_type": "code",
   "execution_count": null,
   "metadata": {
    "ExecuteTime": {
     "end_time": "2019-02-26T17:54:26.327073Z",
     "start_time": "2019-02-26T17:54:26.065430Z"
    }
   },
   "outputs": [],
   "source": [
    "# Initialize environment\n",
    "env = Environment(project=\"LAB_PROJECT\",  # Lab project you want to work on\n",
    "                  # Only required in stand-alone workspace deployments \n",
    "                  # lab_endpoint=\"LAB_ENDPOINT\", \n",
    "                  # lab_api_token=\"LAB_TOKEN\"\n",
    "                 ) "
   ]
  },
  {
   "cell_type": "markdown",
   "metadata": {},
   "source": [
    "## Run Experiments with Tensorboard Logger\n",
    "Implementation, configuration, and evaluation of the experiments."
   ]
  },
  {
   "cell_type": "markdown",
   "metadata": {},
   "source": [
    "### Define Experiment"
   ]
  },
  {
   "cell_type": "code",
   "execution_count": null,
   "metadata": {
    "ExecuteTime": {
     "end_time": "2019-02-26T17:54:27.527665Z",
     "start_time": "2019-02-26T17:54:27.520891Z"
    }
   },
   "outputs": [],
   "source": [
    "# Define experiment\n",
    "def run_experiment(exp, params, artifacts):    \n",
    "    # for this example we will just shuffle all lines in a file\n",
    "    random.seed(params[\"seed\"])\n",
    "    \n",
    "    # Tensorboard Logging\n",
    "    tensorboard_log = exp.tensorboard_logger\n",
    "    print(\"Tensorboard Logger initialized in: \" + str(exp.tensorboard_path))\n",
    "    \n",
    "    # Log scalar data via tensorboard logger\n",
    "    for i in range(100):\n",
    "        tensorboard_log.add_scalar('rand-scalar', random.randint(1,1000), i)\n",
    "    \n",
    "    # Log text via tensorboard logger\n",
    "    tensorboard_log.add_text('Sample Text','this is a sample ' + str(random.randint(1,1000)))\n",
    "    \n",
    "    # Log a matplotlib figure via tensorboard logger\n",
    "    plt.plot([random.randint(1,1000) for i in range(10)])\n",
    "    tensorboard_log.add_figure(tag=\"example-figure\", figure=plt.gcf())"
   ]
  },
  {
   "cell_type": "markdown",
   "metadata": {},
   "source": [
    "For more information on how to log with the tensorboard logger, please refer to the [tensorboardX documentation](https://github.com/lanpa/tensorboardX)."
   ]
  },
  {
   "cell_type": "markdown",
   "metadata": {},
   "source": [
    "### Run Experiments\n",
    "Run two experiments with different parameters and upload the experiment with the tensorboard logs."
   ]
  },
  {
   "cell_type": "code",
   "execution_count": null,
   "metadata": {
    "ExecuteTime": {
     "end_time": "2019-02-26T17:54:32.464360Z",
     "start_time": "2019-02-26T17:54:29.232474Z"
    }
   },
   "outputs": [],
   "source": [
    "tensorboard_logs_keys = []\n",
    "\n",
    "# Create experiment\n",
    "exp = env.create_experiment('Tensorboard Example')\n",
    "\n",
    "# Define parameter configuration for experiment run\n",
    "params = {\n",
    "    'seed': 1 \n",
    "}\n",
    "\n",
    "# Run experiment and automatically sync all metadata\n",
    "exp.run_exp(run_experiment, params)\n",
    "tensorboard_logs_keys.append(exp.exp_metadata.resources.tensorboard_logs)\n",
    "\n",
    "# Create experiment\n",
    "exp = env.create_experiment('Tensorboard Example')\n",
    "\n",
    "# Define parameter configuration for experiment run\n",
    "params = {\n",
    "    'seed': 2\n",
    "}\n",
    "# Run experiment and automatically sync all metadata\n",
    "exp.run_exp(run_experiment, params)\n",
    "tensorboard_logs_keys.append(exp.exp_metadata.resources.tensorboard_logs)\n",
    "\n",
    "print(\"Finished both experiments.\")\n",
    "print(\"Tensorboard logs are saved in Lab following keys: \" + str(tensorboard_logs_keys))"
   ]
  },
  {
   "cell_type": "markdown",
   "metadata": {
    "ExecuteTime": {
     "end_time": "2018-02-26T18:35:48.172911Z",
     "start_time": "2018-02-26T18:35:48.154756Z"
    }
   },
   "source": [
    "### Compare Experiments Locally\n",
    "\n",
    "To compare experiments, you need to navigate with Jupyter to the experiment folder of the selected project (`/workspace/environment/<project>/experiments/`) and open a Tensorboard instance via `New -> Tensorboard`:\n",
    "\n",
    "<img src=\"images/tensorboard-open.png\" />\n",
    "\n",
    "This will open the tensorboard dashboard and you should be able to explore and compare all experiment runs that contain tensorboard logs.\n",
    "\n",
    "<img src=\"images/tensorboard-view.png\" />"
   ]
  },
  {
   "cell_type": "markdown",
   "metadata": {},
   "source": [
    "## Load Experiments from Lab\n",
    "\n",
    "You can load tensorboard logs for any experiment on Lab that has used the tensorboard logger. To do that, find the experiment you want to explore in the Lab experiments dashboard -> open the details -> click on files, and copy the tensorboard log key. With the copied key, you can download the tensorboard logs like shown below:\n",
    "\n",
    "``` python\n",
    "env.get_file(\"TENSORBOARD_LOGS_KEY\", unpack=True)\n",
    "```\n",
    "\n",
    "After you have downloaded all tensorboard logs of interest, just compare those experiments as described in the [Compare Experimentes Section](#Compare-Experiments-Locally)."
   ]
  }
 ],
 "metadata": {
  "kernelspec": {
   "display_name": "Python 3",
   "language": "python",
   "name": "python3"
  },
  "language_info": {
   "codemirror_mode": {
    "name": "ipython",
    "version": 3
   },
   "file_extension": ".py",
   "mimetype": "text/x-python",
   "name": "python",
   "nbconvert_exporter": "python",
   "pygments_lexer": "ipython3",
   "version": "3.7.6"
  },
  "toc": {
   "base_numbering": 1,
   "nav_menu": {
    "height": "840px",
    "width": "569px"
   },
   "number_sections": true,
   "sideBar": true,
   "skip_h1_title": false,
   "title_cell": "Table of Contents",
   "title_sidebar": "Contents",
   "toc_cell": false,
   "toc_position": {},
   "toc_section_display": "block",
   "toc_window_display": true
  },
  "varInspector": {
   "cols": {
    "lenName": 16,
    "lenType": 16,
    "lenVar": 40
   },
   "kernels_config": {
    "python": {
     "delete_cmd_postfix": "",
     "delete_cmd_prefix": "del ",
     "library": "var_list.py",
     "varRefreshCmd": "print(var_dic_list())"
    },
    "r": {
     "delete_cmd_postfix": ") ",
     "delete_cmd_prefix": "rm(",
     "library": "var_list.r",
     "varRefreshCmd": "cat(var_dic_list()) "
    }
   },
   "types_to_exclude": [
    "module",
    "function",
    "builtin_function_or_method",
    "instance",
    "_Feature"
   ],
   "window_display": false
  }
 },
 "nbformat": 4,
 "nbformat_minor": 2
}
