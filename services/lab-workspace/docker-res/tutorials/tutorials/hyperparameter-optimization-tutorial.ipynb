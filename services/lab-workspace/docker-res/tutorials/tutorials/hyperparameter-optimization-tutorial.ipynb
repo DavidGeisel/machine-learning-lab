{
 "cells": [
  {
   "cell_type": "markdown",
   "metadata": {},
   "source": [
    "# Hyperparameter Optimization Tutorial <a class=\"tocSkip\">\n",
    "    \n",
    "The lab client library integrates various hyperparameter optimization libraries to make it simple to tune hyperparameters."
   ]
  },
  {
   "cell_type": "markdown",
   "metadata": {},
   "source": [
    "**In this notebook:**\n",
    "\n",
    "* Create fasttext classification model based on Facebooks Fasttext Implementation and optimize Hyperparameters via:\n",
    "    * [Sklearn Grid Search](#Run-Simple-Grid-Search)\n",
    "    * [Sklearn Random Search](#Run-Simple-Random-Search)\n",
    "    * [Hyperopt Optimizer](#Run-Hyperopt-Optimizer)\n",
    "    * [Skopt Optimizer](#Run-Skopt-Optimizer)\n",
    "    * [Optuna Optimizer](#Run-Optuna-Optimizer)"
   ]
  },
  {
   "cell_type": "markdown",
   "metadata": {},
   "source": [
    "## Dependencies\n",
    "Install, load, and initialize all required dependencies for this experiment.\n",
    "\n",
    "### Install Dependencies\n",
    "- _Please use a Python 3 kernel for the notebook_\n",
    "\n",
    "To build fastText for Python:\n",
    "``` bash\n",
    "%%bash\n",
    "mkdir /resources/fasttext-0-2\n",
    "cd /resources/fasttext-0-2\n",
    "git clone https://github.com/facebookresearch/fastText.git\n",
    "cd fastText\n",
    "pip install .\n",
    "```"
   ]
  },
  {
   "cell_type": "markdown",
   "metadata": {
    "ExecuteTime": {
     "end_time": "2018-02-26T18:45:12.799022Z",
     "start_time": "2018-02-26T18:45:12.784137Z"
    }
   },
   "source": [
    "### Import Dependencies"
   ]
  },
  {
   "cell_type": "code",
   "execution_count": null,
   "metadata": {
    "ExecuteTime": {
     "end_time": "2019-03-21T16:56:21.394642Z",
     "start_time": "2019-03-21T16:56:21.354674Z"
    }
   },
   "outputs": [],
   "source": [
    "# System libraries\n",
    "from __future__ import division, print_function\n",
    "import logging, os, sys, time\n",
    "\n",
    "# Enable logging\n",
    "logging.basicConfig(format='[%(levelname)s] %(message)s', level=logging.INFO, stream=sys.stdout)\n",
    "\n",
    "# Intialize tqdm to always use the notebook progress bar\n",
    "import tqdm\n",
    "tqdm.tqdm = tqdm.tqdm_notebook\n",
    "\n",
    "%load_ext autoreload\n",
    "%autoreload 2\n",
    "\n",
    "# Third-party libraries\n",
    "import numpy as np\n",
    "import pandas as pd\n",
    "\n",
    "import fastText\n",
    "\n",
    "# Lab libraries\n",
    "from lab_client import Environment\n",
    "from lab_client.commons import file_utils"
   ]
  },
  {
   "cell_type": "markdown",
   "metadata": {},
   "source": [
    "### Initialize Environment\n",
    "\n",
    "<div class=\"alert alert-info\">\n",
    "To run this code you need to have created a project within the Lab instance and replace LAB_PROJECT with your project!\n",
    "</div>"
   ]
  },
  {
   "cell_type": "code",
   "execution_count": null,
   "metadata": {
    "ExecuteTime": {
     "end_time": "2019-03-21T16:56:30.440282Z",
     "start_time": "2019-03-21T16:56:29.512868Z"
    }
   },
   "outputs": [],
   "source": [
    "# Initialize environment\n",
    "env = Environment(project=\"LAB_PROJECT\"  # Lab project you want to work on\n",
    "                  # Only required in stand-alone workspace deployments\n",
    "                  # lab_endpoint=\"LAB_ENDPOINT\", # Lab endpoint url: e.g. http://10.2.3.45:8091\n",
    "                  # lab_api_token=\"LAB_API_TOKEN\"\n",
    "                 )\n",
    "\n",
    "# Initialize experiment\n",
    "exp = env.create_experiment('Hyperopt Tutorial')"
   ]
  },
  {
   "cell_type": "markdown",
   "metadata": {},
   "source": [
    "## Load Data\n",
    "Download, explore, and prepare all required data for the experiment in this section.\n",
    "\n",
    "<div class=\"alert alert-info\">\n",
    "To run this code you need to have uploaded <a href=\"/docs/walkthrough/data/download-dataset.html\" target=\"_blank\"><strong>this dataset</strong></a> to the Lab instance!\n",
    "</div>"
   ]
  },
  {
   "cell_type": "code",
   "execution_count": null,
   "metadata": {
    "ExecuteTime": {
     "end_time": "2019-03-21T16:56:32.381301Z",
     "start_time": "2019-03-21T16:56:31.552520Z"
    }
   },
   "outputs": [],
   "source": [
    "# Get data from remote storage and read into basic pandas dataframe\n",
    "dataset_key = 'datasets/news-categorized.csv'\n",
    "text_corpus_path = env.get_file(dataset_key)\n",
    "\n",
    "# Load dataset via pandas\n",
    "df = pd.read_csv(text_corpus_path, sep=\";\")\n",
    "\n",
    "# Configure dataset transfomration\n",
    "dataset_config = {\n",
    "    'train_size':0.75\n",
    "}\n",
    "\n",
    "# Split the dataset into train (95%), and test (5%) based on dataset configuration\n",
    "train_df, test_df = np.split(df.sample(frac=1, random_state=2), [int(dataset_config['train_size']*len(df))])\n",
    "\n",
    "# Create training data file for fasttext - fasttext requires a text file as input\n",
    "train_data_path = exp.create_file_path('train_fasttext.csv')\n",
    "with open(train_data_path, 'w') as f:\n",
    "    for index, row in train_df.iterrows():\n",
    "        if row[\"label\"] and row[\"text\"]:\n",
    "            f.write(\"__label__\" + row[\"label\"].strip() + ' ' +  str(row[\"text\"]) +  '\\n')\n",
    "\n",
    "# Show sample\n",
    "train_df.head()"
   ]
  },
  {
   "cell_type": "markdown",
   "metadata": {},
   "source": [
    "## Define Model Training\n",
    "Implementation of model training and unified model creation"
   ]
  },
  {
   "cell_type": "code",
   "execution_count": null,
   "metadata": {
    "ExecuteTime": {
     "end_time": "2019-03-21T16:56:34.053576Z",
     "start_time": "2019-03-21T16:56:34.007971Z"
    }
   },
   "outputs": [],
   "source": [
    "from unified_model.predefined_models.fasttext_models import FasttextClassifier\n",
    "\n",
    "# use this if you are using the not preprocessed content\n",
    "def create_unified_model(ft_model_path: str, model_name: str):\n",
    "    def preprocess(data, **kwargs):\n",
    "        return str(data)\n",
    "    \n",
    "    return FasttextClassifier(ft_classifier_path=ft_model_path, \n",
    "                              name=model_name, \n",
    "                              transform_func=preprocess)\n",
    "\n",
    "\n",
    "def train(exp, params, artifacts):\n",
    "    start = time.time()\n",
    "    \n",
    "    # train model\n",
    "    model = fastText.train_supervised(\n",
    "        input = artifacts['train_data_path'], \n",
    "        lr = params['learning_rate'],\n",
    "        dim = params['vector_dim'],\n",
    "        ws = params['window_size'],\n",
    "        epoch = params['epochs'],\n",
    "        minCount = params['min_count'],\n",
    "        neg = params['negativ_sampling'],\n",
    "        wordNgrams = params['word_ngrams'],\n",
    "        bucket = params['bucket'],\n",
    "        thread = params['threads'],\n",
    "        verbose = 2\n",
    "    )\n",
    "    \n",
    "    exp.log_metric(\"train_time\", time.time()-start)\n",
    "    \n",
    "    # Save Model\n",
    "    model_name = file_utils.get_filename(dataset_key) + \"_ft_classifier\"\n",
    "    model_path = exp.create_file_path(model_name)\n",
    "    \n",
    "    model.save_model(model_path)\n",
    "    unified_model = create_unified_model(model_path, model_name)\n",
    "    \n",
    "    # add trained model instance to experiment, so it can be accessed\n",
    "    exp.add_artifact(\"trained_model\", unified_model)\n",
    "    \n",
    "    # Test Model\n",
    "    test_df = artifacts[\"test_data\"]\n",
    "    exp.log_metrics(unified_model.evaluate(test_df['text'].tolist(), test_df['label'].tolist(), per_label=False))\n",
    "    \n",
    "    # return the most descriptive metric (main objective) for the experiment\n",
    "    accuracy = exp.metrics[\"micro_recall@k5\"]\n",
    "    print(\"Model training finished with accuracy: \" + str(accuracy))\n",
    "    return accuracy"
   ]
  },
  {
   "cell_type": "markdown",
   "metadata": {},
   "source": [
    "## Run Param Optimization Experiments"
   ]
  },
  {
   "cell_type": "markdown",
   "metadata": {},
   "source": [
    "### Default Experiment Configuration"
   ]
  },
  {
   "cell_type": "code",
   "execution_count": null,
   "metadata": {
    "ExecuteTime": {
     "end_time": "2019-03-21T16:56:36.145232Z",
     "start_time": "2019-03-21T16:56:36.102367Z"
    }
   },
   "outputs": [],
   "source": [
    "# Define parameter configuration for experiment run\n",
    "params = {\n",
    "    'learning_rate': 0.1,\n",
    "    'vector_dim': 300,\n",
    "    'window_size': 7,\n",
    "    'epochs': 10,\n",
    "    'min_count': 3,\n",
    "    'negativ_sampling': 7,\n",
    "    'word_ngrams': 1,\n",
    "    'bucket': 0,\n",
    "    'threads': 30\n",
    "}\n",
    "\n",
    "# Add dataset configuration to experiment parameters\n",
    "params.update(dataset_config)\n",
    "\n",
    "# add dataframes and file paths to experiment (will be logged and accesible within the experiment)\n",
    "artifacts = {\n",
    "    \"train_data\": train_df,\n",
    "    \"test_data\": test_df,\n",
    "    \"train_data_path\": train_data_path\n",
    "}"
   ]
  },
  {
   "cell_type": "markdown",
   "metadata": {},
   "source": [
    "### Optional: Run single training"
   ]
  },
  {
   "cell_type": "code",
   "execution_count": null,
   "metadata": {
    "ExecuteTime": {
     "end_time": "2019-03-21T16:56:47.081059Z",
     "start_time": "2019-03-21T16:56:37.120471Z"
    }
   },
   "outputs": [],
   "source": [
    "# Run experiment with default params and sync all metadata\n",
    "exp.run_exp(train, params, artifacts)"
   ]
  },
  {
   "cell_type": "markdown",
   "metadata": {},
   "source": [
    "### Run Simple Grid Search\n",
    "\n",
    "Simple grid search using [Sklearn's ParamGrid](https://scikit-learn.org/stable/modules/generated/sklearn.model_selection.ParameterGrid.html). Please refer to this [user guide](https://scikit-learn.org/stable/modules/grid_search.html#grid-search) on how to define the parameter space."
   ]
  },
  {
   "cell_type": "code",
   "execution_count": null,
   "metadata": {
    "ExecuteTime": {
     "end_time": "2019-03-06T16:46:41.877387Z",
     "start_time": "2019-03-06T16:45:04.505111Z"
    }
   },
   "outputs": [],
   "source": [
    "from lab_client.utils.experiment_optimizer import GridSearchOptimizer\n",
    "\n",
    "# Parameter Space for Hyperparameter Optimization\n",
    "param_space = {\n",
    "    'epochs': [5, 10, 20, 50],\n",
    "    'min_count': [2, 5]\n",
    "}\n",
    "\n",
    "# Initialize and run Optimizer\n",
    "optimizer = GridSearchOptimizer(exp)\n",
    "experiments = optimizer.run(train, params, artifacts, param_space)\n",
    "# Visualize Results\n",
    "optimizer.plot_results()"
   ]
  },
  {
   "cell_type": "markdown",
   "metadata": {},
   "source": [
    "### Run Simple Random Search\n",
    "\n",
    "Simple random search using [Sklearn's ParamSampler](https://scikit-learn.org/stable/modules/generated/sklearn.model_selection.ParameterSampler.html). Please refer to this [user guide](https://scikit-learn.org/stable/modules/grid_search.html#randomized-parameter-optimization) on how to define the parameter space."
   ]
  },
  {
   "cell_type": "code",
   "execution_count": null,
   "metadata": {
    "ExecuteTime": {
     "end_time": "2019-03-06T16:48:03.146539Z",
     "start_time": "2019-03-06T16:46:44.261028Z"
    }
   },
   "outputs": [],
   "source": [
    "from lab_client.utils.experiment_optimizer import RandomSearchOptimizer\n",
    "\n",
    "# Parameter Space for Hyperparameter Optimization\n",
    "param_space = {\n",
    "    'epochs': [5, 10, 20, 50],\n",
    "    'min_count': [2, 5]\n",
    "}\n",
    "\n",
    "# Initialize and run Optimizer\n",
    "optimizer = RandomSearchOptimizer(exp)\n",
    "experiments = optimizer.run(train, params, artifacts, param_space, max_evals=5)\n",
    "# Visualize Results\n",
    "optimizer.plot_results()"
   ]
  },
  {
   "cell_type": "markdown",
   "metadata": {},
   "source": [
    "### Run Hyperopt Optimizer\n",
    "\n",
    "Optimization based on the [hyperopt](http://hyperopt.github.io/hyperopt/) library using the Tree of Parzen Estimators (TPE) algorithm. Please refer to this [user guide](https://github.com/hyperopt/hyperopt/wiki/FMin) for information on how to define the parameter space and configure the optimizer."
   ]
  },
  {
   "cell_type": "code",
   "execution_count": null,
   "metadata": {
    "ExecuteTime": {
     "end_time": "2019-03-06T16:49:33.791871Z",
     "start_time": "2019-03-06T16:48:05.404320Z"
    }
   },
   "outputs": [],
   "source": [
    "from lab_client.utils.experiment_optimizer import HyperoptOptimizer\n",
    "\n",
    "# Parameter Space for Hyperparameter Optimization\n",
    "from hyperopt import hp\n",
    "param_space = {\n",
    "    'epochs': hp.choice(\"epochs\", [5, 10, 20, 50]),\n",
    "    'min_count': hp.choice(\"min_count\", [2,5])\n",
    "}\n",
    "\n",
    "# Initialize and run Optimizer\n",
    "# You can provide additional named params to the HyperoptOptimizer that will be used in the fmin function\n",
    "# Refer to this docu for information on available parameters: https://github.com/hyperopt/hyperopt/wiki/FMin\n",
    "optimizer = HyperoptOptimizer(exp) \n",
    "experiments = optimizer.run(train, params, artifacts, param_space, max_evals=5)\n",
    "\n",
    "# Visualize Results\n",
    "optimizer.plot_results()"
   ]
  },
  {
   "cell_type": "markdown",
   "metadata": {},
   "source": [
    "### Run Skopt Optimizer\n",
    "\n",
    "Optimization based on the [skopt](https://scikit-optimize.github.io/) library that provides several algorithms for sequential model-based optimization. Please refer to this [user guide](https://scikit-optimize.github.io/optimizer/index.html) for information on how to define the parameter space and configure the optimizer."
   ]
  },
  {
   "cell_type": "code",
   "execution_count": null,
   "metadata": {
    "ExecuteTime": {
     "end_time": "2019-03-06T16:52:07.679654Z",
     "start_time": "2019-03-06T16:49:36.322084Z"
    }
   },
   "outputs": [],
   "source": [
    "from lab_client.utils.experiment_optimizer import SkoptOptimizer\n",
    "\n",
    "# Parameter Space for Hyperparameter Optimization\n",
    "# Information on param space configuration: https://scikit-optimize.github.io/notebooks/hyperparameter-optimization.html\n",
    "from skopt.space import Real, Integer, Categorical\n",
    "param_space  = [\n",
    "    Categorical([5, 10, 20, 50], name='epochs'),\n",
    "    Categorical([2,5], name='min_count')\n",
    "]\n",
    "\n",
    "# Initialize and run Optimizer\n",
    "# You can provide additional named params to the SkoptOptimizer to configure the minimize func of the selecte algorithm\n",
    "# Refer to this docu for information on available parameters and algos: https://scikit-optimize.github.io/optimizer/index.html\n",
    "optimizer = SkoptOptimizer(exp) \n",
    "experiments = optimizer.run(train, params, artifacts, param_space, max_evals=10)\n",
    "\n",
    "# Visualize Results\n",
    "optimizer.plot_results()"
   ]
  },
  {
   "cell_type": "markdown",
   "metadata": {},
   "source": [
    "### Run Optuna Optimizer\n",
    "\n",
    "Optimization based on the [optuna](https://github.com/pfnet/optuna) library that provides several algorithms parameter optimization. Please refer to this [user guide](https://optuna.readthedocs.io/en/stable/index.html) for information on how to define the parameter space and configure the optimizer."
   ]
  },
  {
   "cell_type": "code",
   "execution_count": null,
   "metadata": {
    "ExecuteTime": {
     "end_time": "2019-03-06T16:55:09.792137Z",
     "start_time": "2019-03-06T16:52:10.570550Z"
    }
   },
   "outputs": [],
   "source": [
    "from lab_client.utils.experiment_optimizer import OptunaOptimizer\n",
    "\n",
    "# Parameter Selection Function for Hyperparameter Optimization\n",
    "# Information on param space configuration: https://optuna.readthedocs.io/en/stable/tutorial/configurations.html\n",
    "def select_params(trial):\n",
    "    param_selection = {}\n",
    "    param_selection[\"epochs\"] = trial.suggest_categorical('epochs', [5, 10, 20, 50])\n",
    "    param_selection[\"min_count\"] = trial.suggest_categorical('min_count', [2, 5])\n",
    "    return param_selection\n",
    "\n",
    "# Initialize and run Optimizer\n",
    "# You can provide additional named params to the OptunaOptimizer to configure the optuna Study\n",
    "# Refer to this docu for information on available parameters and algos: https://optuna.readthedocs.io/en/stable/index.html\n",
    "optimizer = OptunaOptimizer(exp) \n",
    "experiments = optimizer.run(train, params, artifacts, select_params, max_evals=5)\n",
    "\n",
    "# Visualize Results\n",
    "optimizer.plot_results()"
   ]
  },
  {
   "cell_type": "markdown",
   "metadata": {},
   "source": [
    "## How to choose the optimizer?"
   ]
  },
  {
   "attachments": {
    "image.png": {
     "image/png": "[encoded data removed]"
    }
   },
   "cell_type": "markdown",
   "metadata": {},
   "source": [
    "How to approach hyperparameter optimization ([source](https://www.quora.com/How-does-XGboost-work-and-what-is-the-best-way-to-optimize-the-parameters/answer/Yassine-Alouini)):\n",
    "\n",
    "- Start with “good candidates” for the problem you are trying to solve. By good candidates, I mean standard values for hyperparameters that experts have been using and are known to yield good results. This is enough in a lot of cases. For a table of “good candidates”, I refer to this table from this great article .\n",
    "- If the performance is still not acceptable by your standards, try random search and/or grid search. This type of approach is highly parallelizable (sometimes dubbed embarrassingly parallel problem) and you are only limited by the number of nodes you can set in your computing cluster.\n",
    "- Finally, you can get clever by trying one the many Bayesian optimization techniques. If you are a Python user, I recommend trying hyperopt and/or skopt . Other similar libraries exist of course\n",
    "\n",
    "To select the right optimizer for your use case please refer to the following table and look at the links below.\n",
    "\n",
    "![image.png](attachment:image.png)\n",
    "\n",
    "- [Optimizing the hyperparameter of which hyperparameter optimizer to use](https://roamanalytics.com/2016/09/15/optimizing-the-hyperparameter-of-which-hyperparameter-optimizer-to-use/)\n",
    "- [Comparison among Hyper-parameter Optimizers](https://medium.com/@ramrajchandradevan/comparison-among-hyper-parameter-optimizers-cd37483cd47)\n",
    "- [What methods do you prefer when performing hyperparameter optimization?](https://www.quora.com/What-methods-do-you-prefer-when-performing-hyperparameter-optimization)"
   ]
  }
 ],
 "metadata": {
  "kernelspec": {
   "display_name": "Python 3",
   "language": "python",
   "name": "python3"
  },
  "language_info": {
   "codemirror_mode": {
    "name": "ipython",
    "version": 3
   },
   "file_extension": ".py",
   "mimetype": "text/x-python",
   "name": "python",
   "nbconvert_exporter": "python",
   "pygments_lexer": "ipython3",
   "version": "3.7.6"
  },
  "toc": {
   "base_numbering": 1,
   "nav_menu": {
    "height": "840px",
    "width": "569px"
   },
   "number_sections": true,
   "sideBar": true,
   "skip_h1_title": false,
   "title_cell": "Table of Contents",
   "title_sidebar": "Contents",
   "toc_cell": false,
   "toc_position": {
    "height": "736px",
    "left": "77px",
    "top": "180px",
    "width": "288px"
   },
   "toc_section_display": true,
   "toc_window_display": true
  },
  "varInspector": {
   "cols": {
    "lenName": 16,
    "lenType": 16,
    "lenVar": 40
   },
   "kernels_config": {
    "python": {
     "delete_cmd_postfix": "",
     "delete_cmd_prefix": "del ",
     "library": "var_list.py",
     "varRefreshCmd": "print(var_dic_list())"
    },
    "r": {
     "delete_cmd_postfix": ") ",
     "delete_cmd_prefix": "rm(",
     "library": "var_list.r",
     "varRefreshCmd": "cat(var_dic_list()) "
    }
   },
   "types_to_exclude": [
    "module",
    "function",
    "builtin_function_or_method",
    "instance",
    "_Feature"
   ],
   "window_display": false
  }
 },
 "nbformat": 4,
 "nbformat_minor": 2
}
